{
 "cells": [
  {
   "cell_type": "code",
   "execution_count": 1,
   "id": "8a979d9d",
   "metadata": {},
   "outputs": [],
   "source": [
    "import pandas as pd"
   ]
  },
  {
   "cell_type": "code",
   "execution_count": 2,
   "id": "2121a7c1",
   "metadata": {},
   "outputs": [],
   "source": [
    "import matplotlib.pyplot as plt"
   ]
  },
  {
   "cell_type": "code",
   "execution_count": 3,
   "id": "be2b7de9",
   "metadata": {},
   "outputs": [],
   "source": [
    "df_top_ten_states_by_profits = pd.read_csv('topTenStatesByProfits.csv')"
   ]
  },
  {
   "cell_type": "code",
   "execution_count": 4,
   "id": "059f1078",
   "metadata": {},
   "outputs": [
    {
     "data": {
      "text/html": [
       "<div>\n",
       "<style scoped>\n",
       "    .dataframe tbody tr th:only-of-type {\n",
       "        vertical-align: middle;\n",
       "    }\n",
       "\n",
       "    .dataframe tbody tr th {\n",
       "        vertical-align: top;\n",
       "    }\n",
       "\n",
       "    .dataframe thead th {\n",
       "        text-align: right;\n",
       "    }\n",
       "</style>\n",
       "<table border=\"1\" class=\"dataframe\">\n",
       "  <thead>\n",
       "    <tr style=\"text-align: right;\">\n",
       "      <th></th>\n",
       "      <th>state</th>\n",
       "      <th>profit</th>\n",
       "      <th>rank</th>\n",
       "    </tr>\n",
       "  </thead>\n",
       "  <tbody>\n",
       "    <tr>\n",
       "      <th>0</th>\n",
       "      <td>California</td>\n",
       "      <td>76382</td>\n",
       "      <td>1.0</td>\n",
       "    </tr>\n",
       "    <tr>\n",
       "      <th>1</th>\n",
       "      <td>New York</td>\n",
       "      <td>74039</td>\n",
       "      <td>2.0</td>\n",
       "    </tr>\n",
       "    <tr>\n",
       "      <th>2</th>\n",
       "      <td>Washington</td>\n",
       "      <td>33403</td>\n",
       "      <td>3.0</td>\n",
       "    </tr>\n",
       "    <tr>\n",
       "      <th>3</th>\n",
       "      <td>Michigan</td>\n",
       "      <td>24464</td>\n",
       "      <td>4.0</td>\n",
       "    </tr>\n",
       "    <tr>\n",
       "      <th>4</th>\n",
       "      <td>Virginia</td>\n",
       "      <td>18598</td>\n",
       "      <td>5.0</td>\n",
       "    </tr>\n",
       "    <tr>\n",
       "      <th>5</th>\n",
       "      <td>Indiana</td>\n",
       "      <td>18383</td>\n",
       "      <td>6.0</td>\n",
       "    </tr>\n",
       "    <tr>\n",
       "      <th>6</th>\n",
       "      <td>Georgia</td>\n",
       "      <td>16251</td>\n",
       "      <td>7.0</td>\n",
       "    </tr>\n",
       "    <tr>\n",
       "      <th>7</th>\n",
       "      <td>Kentucky</td>\n",
       "      <td>11200</td>\n",
       "      <td>8.0</td>\n",
       "    </tr>\n",
       "    <tr>\n",
       "      <th>8</th>\n",
       "      <td>Minnesota</td>\n",
       "      <td>10824</td>\n",
       "      <td>9.0</td>\n",
       "    </tr>\n",
       "    <tr>\n",
       "      <th>9</th>\n",
       "      <td>Delaware</td>\n",
       "      <td>9978</td>\n",
       "      <td>10.0</td>\n",
       "    </tr>\n",
       "  </tbody>\n",
       "</table>\n",
       "</div>"
      ],
      "text/plain": [
       "        state  profit  rank\n",
       "0  California   76382   1.0\n",
       "1    New York   74039   2.0\n",
       "2  Washington   33403   3.0\n",
       "3    Michigan   24464   4.0\n",
       "4    Virginia   18598   5.0\n",
       "5     Indiana   18383   6.0\n",
       "6     Georgia   16251   7.0\n",
       "7    Kentucky   11200   8.0\n",
       "8   Minnesota   10824   9.0\n",
       "9    Delaware    9978  10.0"
      ]
     },
     "execution_count": 4,
     "metadata": {},
     "output_type": "execute_result"
    }
   ],
   "source": [
    "df_top_ten_states_by_profits.head(11)"
   ]
  },
  {
   "cell_type": "code",
   "execution_count": 5,
   "id": "c0f51646",
   "metadata": {},
   "outputs": [],
   "source": [
    "x_profits = df_top_ten_states_by_profits[\"profit\"]/1000"
   ]
  },
  {
   "cell_type": "code",
   "execution_count": 6,
   "id": "fac0efa1",
   "metadata": {},
   "outputs": [],
   "source": [
    "y_state = df_top_ten_states_by_profits[\"state\"]"
   ]
  },
  {
   "cell_type": "code",
   "execution_count": 7,
   "id": "1e6ba23c",
   "metadata": {},
   "outputs": [
    {
     "data": {
      "image/png": "[encoded data removed]",
      "text/plain": [
       "<Figure size 576x360 with 1 Axes>"
      ]
     },
     "metadata": {
      "needs_background": "light"
     },
     "output_type": "display_data"
    }
   ],
   "source": [
    "fig, ax = plt.subplots(figsize=(8, 5))\n",
    "\n",
    "ax.barh(y_state, x_profits, color = \"royalblue\")\n",
    "\n",
    "ax.invert_yaxis()\n",
    "\n",
    "ax.set_xlabel(\"Profit in Thousands\", fontsize=12)\n",
    "\n",
    "ax.set_ylabel(\"States\", fontsize=12)\n",
    "\n",
    "ax.set_title(\"Top Ten States by Profits\", fontsize=20)\n",
    "\n",
    "plt.annotate('Data source: City of New York',\n",
    "            xy = (-0.15, -0.20),\n",
    "            xycoords='axes fraction',\n",
    "            fontsize=9)\n",
    "\n",
    "plt.annotate('@albertoscode',\n",
    "            xy = (.90, -0.20),\n",
    "            xycoords='axes fraction',\n",
    "            fontsize=9)\n",
    "\n",
    "plt.savefig(\"profitsChart.jpg\", dpi=150,bbox_inches='tight')\n",
    "\n",
    "plt.show()"
   ]
  },
  {
   "cell_type": "code",
   "execution_count": null,
   "id": "1a7a8b7a",
   "metadata": {},
   "outputs": [],
   "source": []
  }
 ],
 "metadata": {
  "kernelspec": {
   "display_name": "Python 3 (ipykernel)",
   "language": "python",
   "name": "python3"
  },
  "language_info": {
   "codemirror_mode": {
    "name": "ipython",
    "version": 3
   },
   "file_extension": ".py",
   "mimetype": "text/x-python",
   "name": "python",
   "nbconvert_exporter": "python",
   "pygments_lexer": "ipython3",
   "version": "3.10.0"
  }
 },
 "nbformat": 4,
 "nbformat_minor": 5
}
